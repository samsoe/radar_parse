{
 "cells": [
  {
   "cell_type": "markdown",
   "metadata": {},
   "source": [
    "As far as radar, I want the Nexrad wx radar from Montana doppler radar sites. I have to track down the websites for this yet. But here is an example of someone who makes maps from available data. http://www.pauljhurtado.com/US_Composite_Radar/ Ultimately, what I want is a csv or txt with the raw radar values from these sorts of images. I want the pixel values at our monitoring sites and then buffered at 300 and 600m from point center and and get focal statistics for each. Does that make sense?\n",
    "\n",
    "harvest radar data from weather underground\n",
    " -  api page: https://www.wunderground.com/weather/api/d/docs?d=layers/radar"
   ]
  },
  {
   "cell_type": "markdown",
   "metadata": {},
   "source": [
    "examples\n",
    "-  https://lifewatch.inbo.be/blog/posts/bird-migration-flow-visualization.html\n",
    "-  https://lifewatch.inbo.be/blog/posts/forward-trajectory-visualizations.html"
   ]
  },
  {
   "cell_type": "markdown",
   "metadata": {},
   "source": [
    "-  https://aws.amazon.com/public-datasets/nexrad/"
   ]
  }
 ],
 "metadata": {
  "kernelspec": {
   "display_name": "Python 2",
   "language": "python",
   "name": "python2"
  },
  "language_info": {
   "codemirror_mode": {
    "name": "ipython",
    "version": 2
   },
   "file_extension": ".py",
   "mimetype": "text/x-python",
   "name": "python",
   "nbconvert_exporter": "python",
   "pygments_lexer": "ipython2",
   "version": "2.7.13"
  }
 },
 "nbformat": 4,
 "nbformat_minor": 2
}
